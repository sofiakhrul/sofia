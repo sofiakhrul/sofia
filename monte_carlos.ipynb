{
 "cells": [
  {
   "cell_type": "code",
   "execution_count": null,
   "metadata": {},
   "outputs": [],
   "source": [
    "import random\n",
    "\n",
    "coefficients = list(map(int, input('Введите коэффициенты полинома по убыванию степени мономов:').split()))\n",
    "\n",
    "def f(x, n):\n",
    "    res = 0\n",
    "    for i in range(len(n)):\n",
    "        res += x ** (len(n) - i - 1) * n[i]\n",
    "    return res\n",
    "\n",
    "\n",
    "def primitive(x, n):\n",
    "    n1 = []\n",
    "    for i in range(len(n)):\n",
    "        n1.append(n[i] / (len(n) - i))\n",
    "    n1.append(0)\n",
    "    return f(x, n1)\n",
    "\n",
    "\n",
    "def montecarlo(l, r, N, n):\n",
    "    res = 0\n",
    "    deltax = (r - l) / N\n",
    "    for i in range(N):\n",
    "        ksi = random.random()\n",
    "        x = ksi * deltax + l + i * deltax\n",
    "        res += f(x, n)\n",
    "    return res * deltax\n",
    "\n",
    "\n",
    "def newtonleibniz(l, r, n):\n",
    "    return primitive(r, n) - primitive(l, n)\n",
    "\n",
    "\n",
    "left = float(input('Введите левую границу:'))\n",
    "right = float(input('Введите правую границу:'))\n",
    "N = int(input('Введите число точек:'))\n",
    "\n",
    "print('Интеграл, вычисленный методом Монте-Карло:', montecarlo(left, right, N, coefficients))\n",
    "print('Интеграл, вычисленный по формуле Ньютона-Лейбница:', newtonleibniz(left, right, coefficients))\n",
    "print('Точность метода Монте-Карло:', 100 * min((montecarlo(left, right, N, coefficients) / newtonleibniz(left, right, coefficients),\n",
    "                                                 newtonleibniz(left, right, coefficients) / montecarlo(left, right, N,\n",
    "                                                                                             coefficients))), '%')"
   ]
  }
 ],
 "metadata": {
  "kernelspec": {
   "display_name": "Python 3",
   "language": "python",
   "name": "python3"
  },
  "language_info": {
   "codemirror_mode": {
    "name": "ipython",
    "version": 3
   },
   "file_extension": ".py",
   "mimetype": "text/x-python",
   "name": "python",
   "nbconvert_exporter": "python",
   "pygments_lexer": "ipython3",
   "version": "3.11.2"
  },
  "orig_nbformat": 4,
  "vscode": {
   "interpreter": {
    "hash": "85c13ddcf03f30332d2e2c739343767ea755b0176478c5beb536adc420c9f7aa"
   }
  }
 },
 "nbformat": 4,
 "nbformat_minor": 2
}
