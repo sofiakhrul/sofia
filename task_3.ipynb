{
 "cells": [
  {
   "cell_type": "code",
   "execution_count": 65,
   "metadata": {},
   "outputs": [],
   "source": [
    "import turtle as tl\n",
    "tl.shape(\"turtle\")\n",
    "def draw_fractal(scale):\n",
    "    if scale >= 15:\n",
    "        draw_fractal(scale / 3.0)\n",
    "        tl.left(90)\n",
    "        draw_fractal(scale / 3.0)\n",
    "        tl.right(90)\n",
    "    else:\n",
    "        tl.forward(scale)\n",
    "\n",
    "scale = 300000\n",
    "tl.pensize(1)\n",
    "tl.penup()\n",
    "tl.goto(0,0)\n",
    "tl.pendown()\n",
    "tl.speed(100)\n",
    "\n",
    "draw_fractal(scale)\n",
    "tl.done()"
   ]
  }
 ],
 "metadata": {
  "kernelspec": {
   "display_name": "Python 3.10.7 64-bit",
   "language": "python",
   "name": "python3"
  },
  "language_info": {
   "codemirror_mode": {
    "name": "ipython",
    "version": 3
   },
   "file_extension": ".py",
   "mimetype": "text/x-python",
   "name": "python",
   "nbconvert_exporter": "python",
   "pygments_lexer": "ipython3",
   "version": "3.10.7"
  },
  "orig_nbformat": 4,
  "vscode": {
   "interpreter": {
    "hash": "09545a21ef1a748f8014b875355158556a3056144bcabdeaa8faf38ad1115da4"
   }
  }
 },
 "nbformat": 4,
 "nbformat_minor": 2
}
