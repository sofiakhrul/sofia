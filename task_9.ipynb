{
 "cells": [
  {
   "cell_type": "code",
   "execution_count": 11,
   "metadata": {},
   "outputs": [
    {
     "name": "stdout",
     "output_type": "stream",
     "text": [
      "test №1\n",
      "input: 757\n",
      "verdict: correct\n",
      "\n",
      "test №2\n",
      "input: 571\n",
      "verdict: correct\n",
      "\n",
      "test №3\n",
      "input: 659\n",
      "verdict: correct\n",
      "\n",
      "test №4\n",
      "input: 957\n",
      "verdict: correct\n",
      "\n",
      "test №5\n",
      "input: 841\n",
      "verdict: correct\n",
      "\n"
     ]
    }
   ],
   "source": [
    "def is_prime(a):\n",
    "    b = 0\n",
    "    for i in range(2, int(a ** 0.5) + 1):\n",
    "        if (a % i == 0):\n",
    "            b = b + 1\n",
    "    if (b <= 0):\n",
    "        return True\n",
    "    else:\n",
    "        return False\n",
    "\n",
    "tests = [(757, True), (571, True), (659, True), (957, False), (841, False)]\n",
    "j = 1\n",
    "for test in tests:\n",
    "    print(f'test №{j}')\n",
    "    print(f'input: {test[0]}')\n",
    "    print(f'verdict: ', end='')\n",
    "    if is_prime(test[0]) == test[1]:\n",
    "        print('correct\\n')\n",
    "    else:\n",
    "        print('incorrectly\\n')\n",
    "    j += 1"
   ]
  }
 ],
 "metadata": {
  "kernelspec": {
   "display_name": "Python 3.10.7 64-bit",
   "language": "python",
   "name": "python3"
  },
  "language_info": {
   "codemirror_mode": {
    "name": "ipython",
    "version": 3
   },
   "file_extension": ".py",
   "mimetype": "text/x-python",
   "name": "python",
   "nbconvert_exporter": "python",
   "pygments_lexer": "ipython3",
   "version": "3.10.7"
  },
  "orig_nbformat": 4,
  "vscode": {
   "interpreter": {
    "hash": "09545a21ef1a748f8014b875355158556a3056144bcabdeaa8faf38ad1115da4"
   }
  }
 },
 "nbformat": 4,
 "nbformat_minor": 2
}
