{
 "cells": [
  {
   "cell_type": "code",
   "execution_count": 2,
   "metadata": {},
   "outputs": [],
   "source": [
    "def evklid(a, b):\n",
    "    while a != 0 and b != 0:\n",
    "        if a >= b:\n",
    "            a -= b\n",
    "        else:\n",
    "            b -= a\n",
    "    return a or b\n",
    "    \n",
    "\n",
    "\n",
    "a, b = int(input()), int(input())\n",
    "print ('GCD (', a, ' , ' , b, ') = ', evklid(a, b))       "
   ]
  }
 ],
 "metadata": {
  "kernelspec": {
   "display_name": "Python 3.10.7 64-bit",
   "language": "python",
   "name": "python3"
  },
  "language_info": {
   "codemirror_mode": {
    "name": "ipython",
    "version": 3
   },
   "file_extension": ".py",
   "mimetype": "text/x-python",
   "name": "python",
   "nbconvert_exporter": "python",
   "pygments_lexer": "ipython3",
   "version": "3.10.7"
  },
  "orig_nbformat": 4,
  "vscode": {
   "interpreter": {
    "hash": "09545a21ef1a748f8014b875355158556a3056144bcabdeaa8faf38ad1115da4"
   }
  }
 },
 "nbformat": 4,
 "nbformat_minor": 2
}
