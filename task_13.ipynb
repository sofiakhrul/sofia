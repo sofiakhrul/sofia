{
 "cells": [
  {
   "cell_type": "code",
   "execution_count": null,
   "metadata": {},
   "outputs": [],
   "source": [
    "class Fib_infinity:\n",
    "    \"\"\"По объектам этого класса можно итерироваться и получать 6 чисел Фибоначчи\"\"\"\n",
    "\n",
    "    class _Fib_infinity_iter:\n",
    "        \"\"\"Внутренний класс — итератор\"\"\"\n",
    "        def __init__(self):\n",
    "            self.i = 0\n",
    "            self.fibs1 = 1\n",
    "            self.fibs2 = 1\n",
    "\n",
    "        def __next__(self):\n",
    "            if self.i < 2:\n",
    "                self.i += 1\n",
    "                return self.fibs1\n",
    "            else:\n",
    "                # j = self.i\n",
    "                self.i += 1\n",
    "                fib3 = self.fibs1 + self.fibs2\n",
    "                self.fibs1 = self.fibs2\n",
    "                self.fibs2 = fib3\n",
    "                return fib3\n",
    "\n",
    "    def __iter__(self):\n",
    "        \"\"\"Создать и вернуть итератор\"\"\"\n",
    "        return Fib_infinity._Fib_infinity_iter()\n",
    "\n",
    "\n",
    "f_inf = Fib_infinity()\n",
    "\n",
    "for f in f_inf:\n",
    "    print(f)"
   ]
  }
 ],
 "metadata": {
  "kernelspec": {
   "display_name": "Python 3.10.7 64-bit",
   "language": "python",
   "name": "python3"
  },
  "language_info": {
   "name": "python",
   "version": "3.10.7"
  },
  "orig_nbformat": 4,
  "vscode": {
   "interpreter": {
    "hash": "09545a21ef1a748f8014b875355158556a3056144bcabdeaa8faf38ad1115da4"
   }
  }
 },
 "nbformat": 4,
 "nbformat_minor": 2
}
