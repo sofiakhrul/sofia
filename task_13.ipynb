{
 "cells": [
  {
   "cell_type": "code",
   "execution_count": null,
   "metadata": {},
   "outputs": [],
   "source": [
    "n = int(input('Введите длину ряда: '))\n",
    "fib1 = fib2 = 1\n",
    "print(fib1, fib2, end=' ')\n",
    " \n",
    "for i in range(2, n):\n",
    "    fib1, fib2 = fib2, fib1 + fib2\n",
    "    print(fib2, end=' ')"
   ]
  }
 ],
 "metadata": {
  "kernelspec": {
   "display_name": "Python 3.10.7 64-bit",
   "language": "python",
   "name": "python3"
  },
  "language_info": {
   "codemirror_mode": {
    "name": "ipython",
    "version": 3
   },
   "file_extension": ".py",
   "mimetype": "text/x-python",
   "name": "python",
   "nbconvert_exporter": "python",
   "pygments_lexer": "ipython3",
   "version": "3.10.7"
  },
  "orig_nbformat": 4,
  "vscode": {
   "interpreter": {
    "hash": "09545a21ef1a748f8014b875355158556a3056144bcabdeaa8faf38ad1115da4"
   }
  }
 },
 "nbformat": 4,
 "nbformat_minor": 2
}
